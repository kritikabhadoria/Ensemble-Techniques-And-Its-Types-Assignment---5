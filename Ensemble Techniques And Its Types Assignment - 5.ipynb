{
 "cells": [
  {
   "cell_type": "code",
   "execution_count": 28,
   "id": "b2c8a680-9fdd-42ef-9be2-703930031263",
   "metadata": {},
   "outputs": [],
   "source": [
    "import pandas as pd\n",
    "import numpy as np\n",
    "from sklearn.model_selection import train_test_split\n",
    "from sklearn.impute import SimpleImputer\n",
    "from sklearn.preprocessing import StandardScaler, OneHotEncoder\n",
    "from sklearn.compose import ColumnTransformer\n",
    "from sklearn.pipeline import Pipeline\n",
    "from sklearn.feature_selection import SelectKBest, f_classif\n",
    "from sklearn.ensemble import RandomForestClassifier\n",
    "from sklearn.metrics import accuracy_score\n"
   ]
  },
  {
   "cell_type": "code",
   "execution_count": 29,
   "id": "963ba946-5c10-420b-ad1e-a78dbc43f89a",
   "metadata": {},
   "outputs": [],
   "source": [
    "# Create a sample dataset with numerical and categorical features\n",
    "data = pd.DataFrame({\n",
    "    'num_feature1': [1, 2, np.nan, 4, 5],\n",
    "    'num_feature2': [10, 20, 30, 40, np.nan],\n",
    "    'cat_feature1': ['A', 'B', 'A', 'B', 'C'],\n",
    "    'cat_feature2': ['X', 'Y', np.nan, 'X', 'Z']\n",
    "})\n",
    "\n",
    "target = pd.Series([1, 0, 1, 0, 1])  # Binary classification\n"
   ]
  },
  {
   "cell_type": "code",
   "execution_count": 30,
   "id": "c1569da5-3627-43a7-b6ba-778ecbef339b",
   "metadata": {},
   "outputs": [],
   "source": [
    "X_train, X_test, y_train, y_test = train_test_split(data, target, test_size=0.2, random_state=42)\n"
   ]
  },
  {
   "cell_type": "code",
   "execution_count": 31,
   "id": "37b2173f-8b90-457a-8736-7a2791603cac",
   "metadata": {},
   "outputs": [],
   "source": [
    "# Numerical pipeline\n",
    "numerical_pipeline = Pipeline([\n",
    "    ('imputer', SimpleImputer(strategy='mean')),  # Impute missing values with mean\n",
    "    ('scaler', StandardScaler())  # Standardize the numerical features\n",
    "])\n",
    "\n",
    "# Categorical pipeline\n",
    "categorical_pipeline = Pipeline([\n",
    "    ('imputer', SimpleImputer(strategy='most_frequent')),  # Impute missing values with most frequent\n",
    "    ('onehot', OneHotEncoder(handle_unknown='ignore'))  # One-hot encode categorical features\n",
    "])\n"
   ]
  },
  {
   "cell_type": "code",
   "execution_count": 33,
   "id": "eb0d4dd4-5613-4e13-8395-baa256adf014",
   "metadata": {},
   "outputs": [],
   "source": [
    "# Define the numerical and categorical features\n",
    "numerical_features = ['num_feature1', 'num_feature2']\n",
    "categorical_features = ['cat_feature1', 'cat_feature2']\n",
    "\n",
    "# Combine numerical and categorical pipelines using ColumnTransformer\n",
    "preprocessing = ColumnTransformer([\n",
    "    ('num', numerical_pipeline, numerical_features),\n",
    "    ('cat', categorical_pipeline, categorical_features)\n",
    "])\n",
    "\n",
    "# Build the final pipeline with feature selection and Random Forest classifier\n",
    "final_pipeline = Pipeline([\n",
    "    ('preprocessing', preprocessing),\n",
    "    ('feature_selection', SelectKBest(score_func=f_classif, k='all')),  # Adjust 'k' if needed\n",
    "    ('classifier', RandomForestClassifier(random_state=42))\n",
    "])\n"
   ]
  },
  {
   "cell_type": "code",
   "execution_count": 34,
   "id": "27a3c035-7cee-4867-8627-1cba191b30f5",
   "metadata": {},
   "outputs": [
    {
     "name": "stdout",
     "output_type": "stream",
     "text": [
      "Accuracy: 0.0\n"
     ]
    },
    {
     "name": "stderr",
     "output_type": "stream",
     "text": [
      "/opt/conda/lib/python3.10/site-packages/sklearn/feature_selection/_univariate_selection.py:113: RuntimeWarning: divide by zero encountered in divide\n",
      "  f = msb / msw\n"
     ]
    }
   ],
   "source": [
    "# Train the model\n",
    "final_pipeline.fit(X_train, y_train)\n",
    "\n",
    "# Make predictions on the test set\n",
    "y_pred = final_pipeline.predict(X_test)\n",
    "\n",
    "# Calculate accuracy\n",
    "accuracy = accuracy_score(y_test, y_pred)\n",
    "print(\"Accuracy:\", accuracy)\n"
   ]
  },
  {
   "cell_type": "code",
   "execution_count": null,
   "id": "b6871b8f-718c-472b-b7a5-821cf9fc4087",
   "metadata": {},
   "outputs": [],
   "source": []
  }
 ],
 "metadata": {
  "kernelspec": {
   "display_name": "Python 3 (ipykernel)",
   "language": "python",
   "name": "python3"
  },
  "language_info": {
   "codemirror_mode": {
    "name": "ipython",
    "version": 3
   },
   "file_extension": ".py",
   "mimetype": "text/x-python",
   "name": "python",
   "nbconvert_exporter": "python",
   "pygments_lexer": "ipython3",
   "version": "3.10.8"
  }
 },
 "nbformat": 4,
 "nbformat_minor": 5
}
